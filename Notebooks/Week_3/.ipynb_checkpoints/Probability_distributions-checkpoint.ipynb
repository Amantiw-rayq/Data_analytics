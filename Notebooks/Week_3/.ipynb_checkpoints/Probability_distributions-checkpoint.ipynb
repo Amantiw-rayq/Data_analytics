{
 "cells": [
  {
   "cell_type": "code",
   "execution_count": 1,
   "id": "a354e315-c3ec-4814-96a0-7db1d2f39369",
   "metadata": {},
   "outputs": [],
   "source": [
    "import scipy \n",
    "import numpy as np"
   ]
  },
  {
   "cell_type": "code",
   "execution_count": 2,
   "id": "d8531f31-b77f-4b6c-baee-699c794c2a33",
   "metadata": {},
   "outputs": [],
   "source": [
    "from scipy.stats import binom"
   ]
  },
  {
   "cell_type": "markdown",
   "id": "758836ec-ae60-459c-a7a6-81bb2dc2ebe2",
   "metadata": {},
   "source": [
    "![binomial](http://www.stat.yale.edu/Courses/1997-98/101/binpdf.gif)"
   ]
  },
  {
   "cell_type": "markdown",
   "id": "bb9f074b-6b9a-4bba-bb4f-5dcd73242d35",
   "metadata": {},
   "source": [
    "**a survey found that 65% of all financial consumers were very satisfied with their primary financial institution. Suppose that 25 financial consumers are sampled and if the survey result still hold the true today what is the probability that exactly 19 are very satisfied with their primary finance institutions**"
   ]
  },
  {
   "cell_type": "code",
   "execution_count": 9,
   "id": "0a7585f7-616d-41fd-96e1-34f934e7960c",
   "metadata": {},
   "outputs": [
    {
     "name": "stdout",
     "output_type": "stream",
     "text": [
      "0.09077799859322798\n"
     ]
    }
   ],
   "source": [
    "print(binom.pmf(k=19,n=25,p=0.65))"
   ]
  },
  {
   "cell_type": "markdown",
   "id": "279bd82d-e1a0-4794-a12a-c28bb49510bd",
   "metadata": {},
   "source": [
    "**according to US Census Bureau approximately 6 percentage of all workers in Jackson Mississippi are unemployed in conducting a random telephone survey in Jackson what is the probability of getting 2 or fewer unemployed workers in a sample of 20**"
   ]
  },
  {
   "cell_type": "code",
   "execution_count": 10,
   "id": "dc2ddabd-67b8-4a9d-a8d4-19a8341ffb1a",
   "metadata": {},
   "outputs": [
    {
     "name": "stdout",
     "output_type": "stream",
     "text": [
      "0.8850275957378548\n"
     ]
    }
   ],
   "source": [
    "print(binom.cdf(2,20,0.06))"
   ]
  },
  {
   "cell_type": "code",
   "execution_count": 11,
   "id": "6882f3df-7534-4702-9695-842f43f0cb9c",
   "metadata": {},
   "outputs": [],
   "source": [
    "from scipy.stats import poisson"
   ]
  },
  {
   "cell_type": "code",
   "execution_count": 13,
   "id": "dc8541d0-9e8e-45a1-801d-23d1a2058f84",
   "metadata": {},
   "outputs": [
    {
     "name": "stdout",
     "output_type": "stream",
     "text": [
      "0.1403738958142805\n"
     ]
    }
   ],
   "source": [
    "print(poisson.pmf(3,5))  \n",
    "# X=3, mean=5"
   ]
  },
  {
   "cell_type": "markdown",
   "id": "7a7eb224-dc52-4a8e-9fb6-7b203eb16e73",
   "metadata": {},
   "source": [
    "**suppose bank customers arrives randomly on any weekday afternoon at an average of 3.2 customers every 4 minutes, what is the probability of exactly 5 customers arriving in a 4 minute interval on a weekday\n",
    "afternoon**"
   ]
  },
  {
   "cell_type": "code",
   "execution_count": 16,
   "id": "eba8044a-147d-4b12-9a07-9242350fb219",
   "metadata": {},
   "outputs": [
    {
     "name": "stdout",
     "output_type": "stream",
     "text": [
      "0.11397938346351824\n"
     ]
    }
   ],
   "source": [
    "print(poisson.pmf(5,3.2))"
   ]
  },
  {
   "cell_type": "markdown",
   "id": "92ee5ff2-cf2f-46f6-a90c-92d6a21e8e2b",
   "metadata": {},
   "source": [
    "**the amount of time it takes you see that the amount of time it takes to assembly a plastic module ranges from 27 to 39 seconds and the assembly time are uniformly distributed describe the distribution what is the probability that a given assembly will take between 30 to 35**"
   ]
  },
  {
   "cell_type": "code",
   "execution_count": 29,
   "id": "2bbd1b02-8845-4b4a-b752-f87927f54989",
   "metadata": {},
   "outputs": [],
   "source": [
    "from scipy.stats import uniform"
   ]
  },
  {
   "cell_type": "code",
   "execution_count": 30,
   "id": "784966f7-6f14-415b-b677-98dcdfa67e4b",
   "metadata": {},
   "outputs": [
    {
     "data": {
      "text/plain": [
       "array([27, 28, 29, 30, 31, 32, 33, 34, 35, 36, 37, 38, 39])"
      ]
     },
     "execution_count": 30,
     "metadata": {},
     "output_type": "execute_result"
    }
   ],
   "source": [
    "uni = np.arange(27,40,1)\n",
    "uni"
   ]
  },
  {
   "cell_type": "code",
   "execution_count": 31,
   "id": "3167b5cd-2926-4ade-be3d-170fba0406ee",
   "metadata": {},
   "outputs": [
    {
     "data": {
      "text/plain": [
       "np.float64(33.0)"
      ]
     },
     "execution_count": 31,
     "metadata": {},
     "output_type": "execute_result"
    }
   ],
   "source": [
    "uniform.mean(loc=27, scale=12)"
   ]
  },
  {
   "cell_type": "code",
   "execution_count": 34,
   "id": "874fe066-c0f7-41ff-8c1a-263f3a3ade3e",
   "metadata": {},
   "outputs": [
    {
     "data": {
      "text/plain": [
       "array([0.25      , 0.33333333, 0.41666667, 0.5       , 0.58333333,\n",
       "       0.66666667])"
      ]
     },
     "execution_count": 34,
     "metadata": {},
     "output_type": "execute_result"
    }
   ],
   "source": [
    "uniform.cdf(np.arange(30,36,1), loc=27 , scale=12)"
   ]
  },
  {
   "cell_type": "markdown",
   "id": "3967f1bf-2dca-4f4f-aa80-dbee4dfeda12",
   "metadata": {},
   "source": [
    "![Normal distributin table](https://www.scribbr.de/wp-content/uploads/2023/01/Standard-normal-distribution.webp)"
   ]
  },
  {
   "cell_type": "code",
   "execution_count": 36,
   "id": "5f90fb5a-4351-4535-b221-1d679cd53638",
   "metadata": {},
   "outputs": [],
   "source": [
    "from scipy.stats import norm"
   ]
  },
  {
   "cell_type": "code",
   "execution_count": 37,
   "id": "f027232b-0bcb-427b-943b-8386a50ae2a2",
   "metadata": {},
   "outputs": [],
   "source": [
    "value,mean,std = 69, 65.5 , 2.5"
   ]
  },
  {
   "cell_type": "code",
   "execution_count": 41,
   "id": "edeadfcb-617f-402a-8b4d-bbd578ce6281",
   "metadata": {},
   "outputs": [
    {
     "name": "stdout",
     "output_type": "stream",
     "text": [
      "0.9192433407662289\n"
     ]
    }
   ],
   "source": [
    "print(norm.cdf(value,mean,std))"
   ]
  },
  {
   "cell_type": "markdown",
   "id": "f21ac2e8-3841-498b-ad77-4ccf07fd047d",
   "metadata": {},
   "source": [
    "CDF X > Value"
   ]
  },
  {
   "cell_type": "code",
   "execution_count": 42,
   "id": "564815fe-703b-428b-b5c9-e7bb06265582",
   "metadata": {},
   "outputs": [
    {
     "data": {
      "text/plain": [
       "np.float64(0.08075665923377107)"
      ]
     },
     "execution_count": 42,
     "metadata": {},
     "output_type": "execute_result"
    }
   ],
   "source": [
    "1-norm.cdf(value,mean,std)"
   ]
  },
  {
   "cell_type": "markdown",
   "id": "d2b87fd7-cb8e-40da-a006-e30dd7008d18",
   "metadata": {},
   "source": [
    "val1 < CDF X < val2"
   ]
  },
  {
   "cell_type": "code",
   "execution_count": 51,
   "id": "f1c53a5d-a219-44ba-8ab8-44608719d012",
   "metadata": {},
   "outputs": [
    {
     "name": "stdout",
     "output_type": "stream",
     "text": [
      "0.4667932481473777\n"
     ]
    }
   ],
   "source": [
    "print(norm.cdf(55,55.5,6)-norm.cdf(33,50,2))"
   ]
  },
  {
   "cell_type": "code",
   "execution_count": 54,
   "id": "ca7be8f8-b1e6-4fc7-92e6-b200bf17b992",
   "metadata": {},
   "outputs": [
    {
     "data": {
      "text/plain": [
       "np.float64(1.6448536269514722)"
      ]
     },
     "execution_count": 54,
     "metadata": {},
     "output_type": "execute_result"
    }
   ],
   "source": [
    "norm.ppf(0.95)\n",
    "#Find the 95th percentile of N(0, 1)"
   ]
  },
  {
   "cell_type": "code",
   "execution_count": 55,
   "id": "59ff651f-1136-4cd0-80ac-2be86f2c976b",
   "metadata": {},
   "outputs": [],
   "source": [
    "from scipy.stats import hypergeom"
   ]
  },
  {
   "cell_type": "markdown",
   "id": "aacbab0c-f4ad-4dba-93cc-f1e005af9514",
   "metadata": {},
   "source": [
    "a western city has 18 police officers eligible for promotion 11 of 18 are Hispanic, suppose only 5 of the police officers are chosen for promotion if the officer chosen for promotion had been selected by chance alone what is the probability that one or fewer of the 5 promoted officers would have been his Hispanic."
   ]
  },
  {
   "cell_type": "code",
   "execution_count": 56,
   "id": "9ff62833-8ec4-449b-ab46-753e344d6e68",
   "metadata": {},
   "outputs": [
    {
     "data": {
      "text/plain": [
       "np.float64(0.04738562091503268)"
      ]
     },
     "execution_count": 56,
     "metadata": {},
     "output_type": "execute_result"
    }
   ],
   "source": [
    "hypergeom.cdf(1,18,5,11)"
   ]
  },
  {
   "cell_type": "code",
   "execution_count": 61,
   "id": "ca84a9c2-5423-4098-97a5-71092c5726fe",
   "metadata": {},
   "outputs": [],
   "source": [
    "from scipy.stats import expon"
   ]
  },
  {
   "cell_type": "markdown",
   "id": "65a81412-1b1e-4c03-99de-f25624c57cbd",
   "metadata": {},
   "source": [
    "A manufacturing firm has involved in statistical quality control for several years. As part of the production process parts are randomly selected and tested from the records of these tests it has been established that the defective part occur in a pattern that is a Poisson distributed on the average of 1.38 defects every 20 minutes during production run. Use the information to determine the probability of less than 15 minutes will elapse between any 2 defects."
   ]
  },
  {
   "cell_type": "code",
   "execution_count": 63,
   "id": "aac2e3f9-4b1a-4001-bd79-26a92a756f30",
   "metadata": {},
   "outputs": [
    {
     "data": {
      "text/plain": [
       "0.7246376811594204"
      ]
     },
     "execution_count": 63,
     "metadata": {},
     "output_type": "execute_result"
    }
   ],
   "source": [
    "mu_1= 1/1.38\n",
    "mu_1"
   ]
  },
  {
   "cell_type": "code",
   "execution_count": 65,
   "id": "fc041b95-835b-485c-b5f7-4b5f2ee29453",
   "metadata": {},
   "outputs": [
    {
     "name": "stdout",
     "output_type": "stream",
     "text": [
      "0.6447736190750485\n"
     ]
    }
   ],
   "source": [
    "print(expon.cdf(0.75,0,1/1.38))\n",
    "# 15/20=0.75 , loc=0 , lambda "
   ]
  }
 ],
 "metadata": {
  "kernelspec": {
   "display_name": "Python 3 (ipykernel)",
   "language": "python",
   "name": "python3"
  },
  "language_info": {
   "codemirror_mode": {
    "name": "ipython",
    "version": 3
   },
   "file_extension": ".py",
   "mimetype": "text/x-python",
   "name": "python",
   "nbconvert_exporter": "python",
   "pygments_lexer": "ipython3",
   "version": "3.13.5"
  }
 },
 "nbformat": 4,
 "nbformat_minor": 5
}
