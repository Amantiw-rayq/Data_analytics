{
 "cells": [
  {
   "cell_type": "code",
   "execution_count": null,
   "id": "b1ee63e3-32b5-462d-a26c-8daf81717e5c",
   "metadata": {},
   "outputs": [],
   "source": []
  }
 ],
 "metadata": {
  "kernelspec": {
   "display_name": "",
   "name": ""
  },
  "language_info": {
   "name": ""
  }
 },
 "nbformat": 4,
 "nbformat_minor": 5
}
