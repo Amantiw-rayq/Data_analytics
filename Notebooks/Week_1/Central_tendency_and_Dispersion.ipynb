{
 "cells": [
  {
   "cell_type": "code",
   "execution_count": 1,
   "id": "35be661e-eee5-45b8-83c4-6e07eaa52654",
   "metadata": {},
   "outputs": [],
   "source": [
    "import pandas as pd\n",
    "import numpy as np"
   ]
  },
  {
   "cell_type": "code",
   "execution_count": 5,
   "id": "12f60607-9136-420b-aa9f-fe5a6af6a08d",
   "metadata": {},
   "outputs": [],
   "source": [
    "path=r\"D:\\ACADEMICS\\SEMESTER 3\\Data_Analytics_With_Python\\Data_analytics\\Data\\IBM-313 Marks.csv\""
   ]
  },
  {
   "cell_type": "code",
   "execution_count": 6,
   "id": "f3be2c6a-7f28-4f87-87c8-437fe824ef83",
   "metadata": {},
   "outputs": [],
   "source": [
    "table= pd.read_csv(path)"
   ]
  },
  {
   "cell_type": "code",
   "execution_count": 7,
   "id": "cceb0702-261f-4566-aa01-762038ea9589",
   "metadata": {},
   "outputs": [
    {
     "name": "stdout",
     "output_type": "stream",
     "text": [
      "    S.No.  MTE (25)  Mini Project (25)  Total (50)  ETE (50)  Total\n",
      "0       1      5.00                 20       25.00      12.0  37.00\n",
      "1       2     11.05                 20       31.05      26.0  57.05\n",
      "2       3      8.10                 20       28.10      14.0  42.10\n",
      "3       4      6.00                 10       16.00      13.0  29.00\n",
      "4       5     11.35                 20       31.35      17.0  48.35\n",
      "..    ...       ...                ...         ...       ...    ...\n",
      "74     75     12.05                 10       22.05      20.0  42.05\n",
      "75     76     12.25                 10       22.25      28.0  50.25\n",
      "76     77      1.75                 10       11.75       NaN   0.00\n",
      "77     78      3.00                 10       13.00       NaN   0.00\n",
      "78     79      5.80                 10       15.80      12.0  27.80\n",
      "\n",
      "[79 rows x 6 columns]\n"
     ]
    }
   ],
   "source": [
    "print(table)"
   ]
  },
  {
   "cell_type": "code",
   "execution_count": 11,
   "id": "70828948-104a-4c5d-ab11-a79234c97ed7",
   "metadata": {},
   "outputs": [
    {
     "data": {
      "text/plain": [
       "np.float64(46.90632911392405)"
      ]
     },
     "execution_count": 11,
     "metadata": {},
     "output_type": "execute_result"
    }
   ],
   "source": [
    "x=table['Total']\n",
    "np.mean(x)"
   ]
  },
  {
   "cell_type": "code",
   "execution_count": 12,
   "id": "7f1f7be7-02d1-448f-829f-a9e62da6923d",
   "metadata": {},
   "outputs": [
    {
     "data": {
      "text/plain": [
       "np.float64(45.0)"
      ]
     },
     "execution_count": 12,
     "metadata": {},
     "output_type": "execute_result"
    }
   ],
   "source": [
    "np.median(x)"
   ]
  },
  {
   "cell_type": "code",
   "execution_count": 17,
   "id": "7a679273-a302-4118-a552-f20274c4e783",
   "metadata": {},
   "outputs": [
    {
     "name": "stdout",
     "output_type": "stream",
     "text": [
      "ModeResult(mode=np.float64(0.0), count=np.int64(2))\n"
     ]
    }
   ],
   "source": [
    "import scipy\n",
    "from scipy import stats\n",
    "print(stats.mode(x))"
   ]
  },
  {
   "cell_type": "code",
   "execution_count": 22,
   "id": "285a64aa-d19c-491e-86cb-92aed996efbf",
   "metadata": {},
   "outputs": [],
   "source": [
    "p= np.percentile(x,50)"
   ]
  },
  {
   "cell_type": "code",
   "execution_count": 23,
   "id": "a0d0300a-e5d3-41e9-9ef2-3d9f7038a9bb",
   "metadata": {},
   "outputs": [
    {
     "name": "stdout",
     "output_type": "stream",
     "text": [
      "45.0\n"
     ]
    }
   ],
   "source": [
    "print(p)"
   ]
  },
  {
   "cell_type": "code",
   "execution_count": 24,
   "id": "42bf38d6-5f2f-461c-867d-1738dd9ef39b",
   "metadata": {},
   "outputs": [
    {
     "name": "stdout",
     "output_type": "stream",
     "text": [
      "['ram', 65, 2.5]\n"
     ]
    }
   ],
   "source": [
    "k= ['ram',65,2.5]\n",
    "print(k)"
   ]
  },
  {
   "cell_type": "code",
   "execution_count": 27,
   "id": "aed71a64-3932-48c4-b063-753a95c087bb",
   "metadata": {},
   "outputs": [
    {
     "name": "stdout",
     "output_type": "stream",
     "text": [
      "ram\n",
      "65\n",
      "2.5\n"
     ]
    }
   ],
   "source": [
    "for i in k:\n",
    "    print(i)\n"
   ]
  },
  {
   "cell_type": "code",
   "execution_count": 29,
   "id": "7fb88e6a-2d67-49e9-ac39-62ad588cd10d",
   "metadata": {},
   "outputs": [
    {
     "name": "stdout",
     "output_type": "stream",
     "text": [
      "Hi,everyone\n"
     ]
    }
   ],
   "source": [
    "def greet():\n",
    "    print('Hi,everyone')\n",
    "\n",
    "greet()\n"
   ]
  },
  {
   "cell_type": "markdown",
   "id": "12aeb597-ed5c-41c6-be3f-d184b78f9e9f",
   "metadata": {},
   "source": [
    "Range"
   ]
  },
  {
   "cell_type": "code",
   "execution_count": 42,
   "id": "852b3bbc-6cc4-4342-94c3-6398b1bd6e24",
   "metadata": {},
   "outputs": [],
   "source": [
    "def rangef(data):\n",
    "    max_data = max(data)\n",
    "    min_data = min(data)\n",
    "    range= max_data - min_data\n",
    "    return(range)"
   ]
  },
  {
   "cell_type": "code",
   "execution_count": 43,
   "id": "dec52894-f327-4828-9b76-53a5583bfb24",
   "metadata": {},
   "outputs": [
    {
     "data": {
      "text/plain": [
       "94.5"
      ]
     },
     "execution_count": 43,
     "metadata": {},
     "output_type": "execute_result"
    }
   ],
   "source": [
    "rangef(x)"
   ]
  },
  {
   "cell_type": "markdown",
   "id": "46fd3963-c237-4dee-9e3e-a3d9b5127ee0",
   "metadata": {},
   "source": [
    "Quartile"
   ]
  },
  {
   "cell_type": "code",
   "execution_count": 46,
   "id": "75af91cf-5164-4277-98c2-9753401f2364",
   "metadata": {},
   "outputs": [
    {
     "name": "stdout",
     "output_type": "stream",
     "text": [
      "38.0\n"
     ]
    }
   ],
   "source": [
    "q1=np.percentile(x,25)\n",
    "print(q1)"
   ]
  },
  {
   "cell_type": "code",
   "execution_count": 47,
   "id": "8ea8c90f-5e7a-4c0f-8f32-0a9d145a84a1",
   "metadata": {},
   "outputs": [
    {
     "name": "stdout",
     "output_type": "stream",
     "text": [
      "45.0\n"
     ]
    }
   ],
   "source": [
    "q2=np.percentile(x,50)\n",
    "print(q2)"
   ]
  },
  {
   "cell_type": "code",
   "execution_count": 49,
   "id": "fd0ac00b-8699-4b9f-9ca7-200b2dba1f78",
   "metadata": {},
   "outputs": [
    {
     "name": "stdout",
     "output_type": "stream",
     "text": [
      "55.375\n"
     ]
    }
   ],
   "source": [
    "q3=np.percentile(x,75)\n",
    "print(q3)"
   ]
  },
  {
   "cell_type": "markdown",
   "id": "eb0bb09f-4840-4e68-a1ee-359c0fc2be58",
   "metadata": {},
   "source": [
    "Inter Quartile Range"
   ]
  },
  {
   "cell_type": "code",
   "execution_count": 50,
   "id": "eb83459d-88bc-436f-8b5e-50d17157aae5",
   "metadata": {},
   "outputs": [
    {
     "name": "stdout",
     "output_type": "stream",
     "text": [
      "17.375\n"
     ]
    }
   ],
   "source": [
    "IQ= q3-q1\n",
    "print(IQ)"
   ]
  },
  {
   "cell_type": "code",
   "execution_count": 51,
   "id": "d96ccb71-94e3-4135-88c9-a9c221bef244",
   "metadata": {},
   "outputs": [
    {
     "data": {
      "text/plain": [
       "np.float64(262.7814789296587)"
      ]
     },
     "execution_count": 51,
     "metadata": {},
     "output_type": "execute_result"
    }
   ],
   "source": [
    "np.var(x)"
   ]
  },
  {
   "cell_type": "markdown",
   "id": "54eeeb42-0158-4a1c-9586-d3fcb9e41e61",
   "metadata": {},
   "source": [
    "Population Standard Deviation"
   ]
  },
  {
   "cell_type": "code",
   "execution_count": 53,
   "id": "01337248-197b-41a2-9e17-dd0d6efdba42",
   "metadata": {},
   "outputs": [
    {
     "data": {
      "text/plain": [
       "16.210536046955966"
      ]
     },
     "execution_count": 53,
     "metadata": {},
     "output_type": "execute_result"
    }
   ],
   "source": [
    "import statistics\n",
    "statistics.pstdev(x)"
   ]
  },
  {
   "cell_type": "code",
   "execution_count": 57,
   "id": "3b1cb32e-0a75-4317-b2c2-f63a24dadf44",
   "metadata": {},
   "outputs": [
    {
     "data": {
      "text/plain": [
       "np.float64(16.210536046955966)"
      ]
     },
     "execution_count": 57,
     "metadata": {},
     "output_type": "execute_result"
    }
   ],
   "source": [
    "np.std(x)"
   ]
  },
  {
   "cell_type": "markdown",
   "id": "0453237b-31d5-4308-94f0-f697abfb3ed8",
   "metadata": {},
   "source": [
    "Sample standard deviation"
   ]
  },
  {
   "cell_type": "code",
   "execution_count": 56,
   "id": "b18b852a-0d4d-48c0-b1f1-028240553d1f",
   "metadata": {},
   "outputs": [
    {
     "data": {
      "text/plain": [
       "16.31411880088133"
      ]
     },
     "execution_count": 56,
     "metadata": {},
     "output_type": "execute_result"
    }
   ],
   "source": [
    "statistics.stdev(x)"
   ]
  },
  {
   "cell_type": "markdown",
   "id": "0591b554-a5f8-4ea7-9a01-b73640752ba1",
   "metadata": {},
   "source": [
    "Skewness"
   ]
  },
  {
   "cell_type": "code",
   "execution_count": 58,
   "id": "b56f1e66-5cd5-48d6-b919-faf15504ef2f",
   "metadata": {},
   "outputs": [],
   "source": [
    "from scipy.stats import skew"
   ]
  },
  {
   "cell_type": "code",
   "execution_count": 59,
   "id": "b41c9955-b04d-429b-a3b1-9c1c3dbdbf6f",
   "metadata": {},
   "outputs": [
    {
     "data": {
      "text/plain": [
       "np.float64(0.10226407464884266)"
      ]
     },
     "execution_count": 59,
     "metadata": {},
     "output_type": "execute_result"
    }
   ],
   "source": [
    "skew(x)"
   ]
  },
  {
   "cell_type": "code",
   "execution_count": 60,
   "id": "86aa2033-8eee-4aac-8056-8fce36af9418",
   "metadata": {},
   "outputs": [],
   "source": [
    "from matplotlib import pyplot as plt"
   ]
  },
  {
   "cell_type": "code",
   "execution_count": 62,
   "id": "0fbeed7d-587f-41a2-a8d4-dad7988cd77d",
   "metadata": {},
   "outputs": [
    {
     "data": {
      "image/png": "[encoded data removed]",
      "text/plain": [
       "<Figure size 640x480 with 1 Axes>"
      ]
     },
     "metadata": {},
     "output_type": "display_data"
    }
   ],
   "source": [
    "plt.boxplot(x,sym='r^')\n",
    "plt.show()"
   ]
  }
 ],
 "metadata": {
  "kernelspec": {
   "display_name": "Python 3 (ipykernel)",
   "language": "python",
   "name": "python3"
  },
  "language_info": {
   "codemirror_mode": {
    "name": "ipython",
    "version": 3
   },
   "file_extension": ".py",
   "mimetype": "text/x-python",
   "name": "python",
   "nbconvert_exporter": "python",
   "pygments_lexer": "ipython3",
   "version": "3.13.5"
  }
 },
 "nbformat": 4,
 "nbformat_minor": 5
}
