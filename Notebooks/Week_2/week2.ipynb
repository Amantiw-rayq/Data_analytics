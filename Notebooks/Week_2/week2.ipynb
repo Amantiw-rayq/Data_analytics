{
 "cells": [
  {
   "cell_type": "code",
   "execution_count": null,
   "id": "45659bb9-5c12-4b09-9abc-9c0bb6c0bbab",
   "metadata": {},
   "outputs": [],
   "source": []
  }
 ],
 "metadata": {
  "kernelspec": {
   "display_name": "Python 3 (ipykernel)",
   "language": "python",
   "name": "python3"
  },
  "language_info": {
   "codemirror_mode": {
    "name": "ipython",
    "version": 3
   },
   "file_extension": ".py",
   "mimetype": "text/x-python",
   "name": "python",
   "nbconvert_exporter": "python",
   "pygments_lexer": "ipython3",
   "version": "3.13.5"
  }
 },
 "nbformat": 4,
 "nbformat_minor": 5
}
